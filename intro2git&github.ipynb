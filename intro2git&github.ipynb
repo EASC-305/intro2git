{
 "cells": [
  {
   "cell_type": "markdown",
   "metadata": {
    "slideshow": {
     "slide_type": "slide"
    }
   },
   "source": [
    "# Introduction to `git` and GitHub  \n",
    "\n",
    "__Andrew Nolan__ (He/Him)  \n",
    "\n",
    "[anolan@sfu.ca](anolan@sfu.ca)\n",
    "\n",
    "02/24/2021"
   ]
  },
  {
   "cell_type": "markdown",
   "metadata": {
    "slideshow": {
     "slide_type": "slide"
    }
   },
   "source": [
    "__Disclaimer__:   \n",
    " - This will not be a comprehensive tutorial on `git` or GitHub.   \n",
    "\n",
    "__Goals__:   \n",
    " - Familiarize ourselves with version control.   \n",
    " - Understand the difference between `git` and GitHub.   \n",
    " - Provide resources for you to learn `git` version control on your own. \n",
    " \n",
    "__Acknowledgment__:     \n",
    " 1. [Intro to git](https://github.com/ICESAT-2HackWeek/intro-git/blob/master/git-intro-concepts.ipynb) from the ICESAT-2 Hackweek tutorial. \n",
    " 2. [Git & GitHub Tutorial for Scientists](https://gitbookdown.dallasdatascience.com/) \n"
   ]
  },
  {
   "cell_type": "markdown",
   "metadata": {
    "slideshow": {
     "slide_type": "slide"
    }
   },
   "source": [
    "# Version Control  \n",
    "\n",
    "[Wikipedia Definition](https://en.wikipedia.org/wiki/Version_control): \n",
    "\n",
    "> ... revision control is any kind of practice that tracks and provides control over changes to source code.\n",
    "\n",
    "- Source code: can be (almost) any kind of document"
   ]
  },
  {
   "cell_type": "markdown",
   "metadata": {
    "slideshow": {
     "slide_type": "slide"
    }
   },
   "source": [
    "# Version control \n",
    "\n",
    "\n",
    "When might we be happy we used version control? "
   ]
  },
  {
   "cell_type": "markdown",
   "metadata": {
    "slideshow": {
     "slide_type": "subslide"
    }
   },
   "source": [
    "## Scenario A: Things were working, now they are not! \n",
    "\n",
    "\n",
    "Your writing a script to do some data processing and plotting for a course project. You stayed up till 4am working to get the project done and made some delirious changes to your code. \n",
    "\n",
    "When you go to run the code one last time to generate the final version of your figures, it no longer work!\n",
    "\n",
    "Lets see what changes were made b/w the current version of the script and the last \"`commit`\". \n",
    "```\n",
    "git diff HEAD final_project.py\n",
    "```\n"
   ]
  },
  {
   "cell_type": "markdown",
   "metadata": {
    "slideshow": {
     "slide_type": "subslide"
    }
   },
   "source": [
    "# Scenario B: LOTS of rounds of revisions.\n",
    "\n",
    " <img src=\"https://phdcomics.com/comics/archive/phd101212s.gif\" alt=\"phd comic\" width=\"300\" height=\"400\" class=\"center\"> "
   ]
  },
  {
   "cell_type": "markdown",
   "metadata": {
    "slideshow": {
     "slide_type": "slide"
    }
   },
   "source": [
    "# `git` for version control\n",
    "\n",
    "- Local version control system.  [1]\n",
    "\n",
    "- Typically used from the command line (though there are some possible [GUIs](https://rogerdudler.github.io/git-guide/)[2]) \n",
    "\n",
    "[1]: For instillation instructions see [here](https://gitbookdown.dallasdatascience.com/setting-up-git.html).  \n",
    "\n",
    "[2]: Scroll down to the \"Links & resources\" section. "
   ]
  },
  {
   "cell_type": "markdown",
   "metadata": {
    "slideshow": {
     "slide_type": "subslide"
    }
   },
   "source": [
    "Some basic terminology: \n",
    "\n",
    "__Repository (repo)__: a repo tracks all the changes you made in a directory. In tangible form, it is a `.git/` folder that lives inside the directory.\n",
    "    \n",
    "__git init__: initializes the version control  ( by creating the `.git/` folder).\n",
    "    \n",
    "__Commits__: a “commit” adds your latest changes to your repository. If a change is not committed, Git would not recognize the change.\n",
    "\n",
    "__`git add`__: tells git which file’s changes you want to document.\n",
    "\n",
    "__`git commit`__: tells git to document the changes you specified using `git add`, with an accompanying commit message that you have to provide to explain what changes were made.\n"
   ]
  },
  {
   "cell_type": "markdown",
   "metadata": {
    "slideshow": {
     "slide_type": "subslide"
    }
   },
   "source": [
    "# Lets See `git` in action!\n",
    "\n",
    "[Here's a list](https://github.com/EASC-305/intro2git/blob/main/Notes.md) of all commands I'll run. "
   ]
  },
  {
   "cell_type": "markdown",
   "metadata": {
    "slideshow": {
     "slide_type": "slide"
    }
   },
   "source": [
    "# `git` versus GitHub\n",
    "\n",
    "\n",
    "__`git`__: \n",
    " - Version control for locally host projects. \n",
    " \n",
    "__GitHub__:\n",
    " - For sharing code. \n",
    " - For collaborating on projects with other people! "
   ]
  },
  {
   "cell_type": "markdown",
   "metadata": {
    "slideshow": {
     "slide_type": "slide"
    }
   },
   "source": [
    "## Why host code on GitHub?  \n",
    "\n",
    "- Encourages open source and open science (i.e. reproducibility!)   \n",
    "\n",
    "- Facilitates synchronous collaboration!\n",
    "\n",
    "- Great way to work on a coding project from multiple computers at a time!   \n",
    "\n",
    "- A great way to highlight your coding skills! (include a link to your GitHub on you CV):\n",
    "    - [Host your final project code](https://github.com/andrewdnolan/AdvDiff).  \n",
    "    - [Show off the coding projects you are working on](https://github.com/andrewdnolan/Greenland-Calving)\n"
   ]
  },
  {
   "cell_type": "markdown",
   "metadata": {
    "slideshow": {
     "slide_type": "slide"
    }
   },
   "source": [
    "# Resources\n",
    "\n",
    "1. [Git & GitHub Tutorial for Scientists](https://gitbookdown.dallasdatascience.com/) \n",
    "\n",
    "2. [Intro to git](https://github.com/ICESAT-2HackWeek/intro-git/blob/master/git-intro-concepts.ipynb) from the ICESAT-2 Hackweek tutorial. \n",
    "\n",
    "3. [Git Guide](https://rogerdudler.github.io/git-guide/) by Roger Dudler.  \n",
    "\n",
    "4. [`atom`](https://atom.io/) a great text editor with build in support for `git` and GitHub. \n"
   ]
  },
  {
   "cell_type": "code",
   "execution_count": null,
   "metadata": {
    "slideshow": {
     "slide_type": "skip"
    }
   },
   "outputs": [],
   "source": []
  }
 ],
 "metadata": {
  "celltoolbar": "Slideshow",
  "kernelspec": {
   "display_name": "Python 3",
   "language": "python",
   "name": "python3"
  },
  "language_info": {
   "codemirror_mode": {
    "name": "ipython",
    "version": 3
   },
   "file_extension": ".py",
   "mimetype": "text/x-python",
   "name": "python",
   "nbconvert_exporter": "python",
   "pygments_lexer": "ipython3",
   "version": "3.7.9"
  }
 },
 "nbformat": 4,
 "nbformat_minor": 4
}
